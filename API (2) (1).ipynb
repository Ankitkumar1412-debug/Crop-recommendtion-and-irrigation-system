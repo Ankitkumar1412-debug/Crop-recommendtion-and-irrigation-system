{
 "cells": [
  {
   "cell_type": "code",
   "execution_count": 1,
   "id": "60790630",
   "metadata": {},
   "outputs": [
    {
     "name": "stdout",
     "output_type": "stream",
     "text": [
      "{'message': 'forbidden'}\n"
     ]
    }
   ],
   "source": [
    "import requests\n",
    "\n",
    "# insert your real key here!\n",
    "access_key = '7e194265-8064-4eee-842a-4719c477804f'\n",
    "\n",
    "headers = {\n",
    "    'X-Meteum-API-Key': access_key\n",
    "}\n",
    "\n",
    "response = requests.get('https://api.meteum.ai/v1/forecast?lat=12.972623092425923&lon=79.16267637937521', headers=headers)\n",
    "\n",
    "print(response.json()), \n",
    "\n",
    "data = response.json()\n"
   ]
  },
  {
   "cell_type": "code",
   "execution_count": 2,
   "id": "a01745f6",
   "metadata": {},
   "outputs": [
    {
     "name": "stdout",
     "output_type": "stream",
     "text": [
      "{\n",
      "   \"message\": \"forbidden\"\n",
      "}\n"
     ]
    }
   ],
   "source": [
    "# Write Python3 code here\n",
    "\n",
    "import json\n",
    "\n",
    "\n",
    "# Indent keyword while dumping the\n",
    "# data decides to what level\n",
    "# spaces the user wants.\n",
    "#print(json.dumps(data, indent = 1))\n",
    "\n",
    "# Difference in the spaces\n",
    "# near the brackets can be seen\n",
    "print(json.dumps(data, indent = 3))\n"
   ]
  },
  {
   "cell_type": "code",
   "execution_count": 3,
   "id": "8375c0e5",
   "metadata": {},
   "outputs": [
    {
     "name": "stdout",
     "output_type": "stream",
     "text": [
      "Today's date: 2023-05-07\n"
     ]
    }
   ],
   "source": [
    "from datetime import date\n",
    "\n",
    "today = date.today()\n",
    "print(\"Today's date:\", today)"
   ]
  },
  {
   "cell_type": "code",
   "execution_count": 5,
   "id": "acad1e06",
   "metadata": {},
   "outputs": [
    {
     "ename": "KeyError",
     "evalue": "'forecasts'",
     "output_type": "error",
     "traceback": [
      "\u001b[1;31m---------------------------------------------------------------------------\u001b[0m",
      "\u001b[1;31mKeyError\u001b[0m                                  Traceback (most recent call last)",
      "Cell \u001b[1;32mIn[5], line 1\u001b[0m\n\u001b[1;32m----> 1\u001b[0m \u001b[39mprint\u001b[39m(data[\u001b[39m'\u001b[39;49m\u001b[39mforecasts\u001b[39;49m\u001b[39m'\u001b[39;49m])\n",
      "\u001b[1;31mKeyError\u001b[0m: 'forecasts'"
     ]
    }
   ],
   "source": [
    "print(data['forecasts'])"
   ]
  },
  {
   "cell_type": "code",
   "execution_count": 6,
   "id": "e5fd68ac",
   "metadata": {},
   "outputs": [
    {
     "ename": "KeyError",
     "evalue": "'forecasts'",
     "output_type": "error",
     "traceback": [
      "\u001b[1;31m---------------------------------------------------------------------------\u001b[0m",
      "\u001b[1;31mKeyError\u001b[0m                                  Traceback (most recent call last)",
      "Cell \u001b[1;32mIn[6], line 1\u001b[0m\n\u001b[1;32m----> 1\u001b[0m \u001b[39mprint\u001b[39m(json\u001b[39m.\u001b[39mdumps(data[\u001b[39m'\u001b[39;49m\u001b[39mforecasts\u001b[39;49m\u001b[39m'\u001b[39;49m][\u001b[39m1\u001b[39m], indent \u001b[39m=\u001b[39m \u001b[39m3\u001b[39m))\n",
      "\u001b[1;31mKeyError\u001b[0m: 'forecasts'"
     ]
    }
   ],
   "source": [
    "print(json.dumps(data['forecasts'][1], indent = 3))"
   ]
  },
  {
   "cell_type": "code",
   "execution_count": 7,
   "id": "0511d189",
   "metadata": {},
   "outputs": [
    {
     "ename": "KeyError",
     "evalue": "'forecasts'",
     "output_type": "error",
     "traceback": [
      "\u001b[1;31m---------------------------------------------------------------------------\u001b[0m",
      "\u001b[1;31mKeyError\u001b[0m                                  Traceback (most recent call last)",
      "Cell \u001b[1;32mIn[7], line 1\u001b[0m\n\u001b[1;32m----> 1\u001b[0m data_to_work \u001b[39m=\u001b[39m data[\u001b[39m'\u001b[39;49m\u001b[39mforecasts\u001b[39;49m\u001b[39m'\u001b[39;49m][\u001b[39m1\u001b[39m][\u001b[39m\"\u001b[39m\u001b[39mhours\u001b[39m\u001b[39m\"\u001b[39m]\n\u001b[0;32m      2\u001b[0m \u001b[39mprint\u001b[39m(data_to_work)\n",
      "\u001b[1;31mKeyError\u001b[0m: 'forecasts'"
     ]
    }
   ],
   "source": [
    "data_to_work = data['forecasts'][1][\"hours\"]\n",
    "print(data_to_work)"
   ]
  },
  {
   "cell_type": "code",
   "execution_count": 8,
   "id": "28d87c43",
   "metadata": {},
   "outputs": [
    {
     "ename": "NameError",
     "evalue": "name 'data_to_work' is not defined",
     "output_type": "error",
     "traceback": [
      "\u001b[1;31m---------------------------------------------------------------------------\u001b[0m",
      "\u001b[1;31mNameError\u001b[0m                                 Traceback (most recent call last)",
      "Cell \u001b[1;32mIn[8], line 2\u001b[0m\n\u001b[0;32m      1\u001b[0m dici \u001b[39m=\u001b[39m {}\n\u001b[1;32m----> 2\u001b[0m \u001b[39mfor\u001b[39;00m a \u001b[39min\u001b[39;00m data_to_work :\n\u001b[0;32m      3\u001b[0m     dici[a[\u001b[39m\"\u001b[39m\u001b[39mhour\u001b[39m\u001b[39m\"\u001b[39m]] \u001b[39m=\u001b[39m [a[\u001b[39m\"\u001b[39m\u001b[39msoil_temp\u001b[39m\u001b[39m\"\u001b[39m] , a[\u001b[39m\"\u001b[39m\u001b[39msoil_moisture\u001b[39m\u001b[39m\"\u001b[39m] , a[\u001b[39m\"\u001b[39m\u001b[39mprec_mm\u001b[39m\u001b[39m\"\u001b[39m] , a[\u001b[39m\"\u001b[39m\u001b[39mprec_prob\u001b[39m\u001b[39m\"\u001b[39m] , a[\u001b[39m\"\u001b[39m\u001b[39mprec_period\u001b[39m\u001b[39m\"\u001b[39m]]\n\u001b[0;32m      4\u001b[0m     \u001b[39mprint\u001b[39m(dici[a[\u001b[39m\"\u001b[39m\u001b[39mhour\u001b[39m\u001b[39m\"\u001b[39m]])\n",
      "\u001b[1;31mNameError\u001b[0m: name 'data_to_work' is not defined"
     ]
    }
   ],
   "source": [
    "dici = {}\n",
    "for a in data_to_work :\n",
    "    dici[a[\"hour\"]] = [a[\"soil_temp\"] , a[\"soil_moisture\"] , a[\"prec_mm\"] , a[\"prec_prob\"] , a[\"prec_period\"]]\n",
    "    print(dici[a[\"hour\"]])"
   ]
  },
  {
   "cell_type": "code",
   "execution_count": 8,
   "id": "34303266",
   "metadata": {},
   "outputs": [
    {
     "name": "stdout",
     "output_type": "stream",
     "text": [
      "       0     1    2    3     4\n",
      "0   30.0  0.14  0.0  0.0  60.0\n",
      "1   30.0  0.14  0.0  0.0  60.0\n",
      "2   27.0  0.14  0.0  0.0  60.0\n",
      "3   27.0  0.14  0.0  0.0  60.0\n",
      "4   27.0  0.14  0.0  0.0  60.0\n",
      "5   25.0  0.14  0.0  0.0  60.0\n",
      "6   25.0  0.14  0.0  0.0  60.0\n",
      "7   25.0  0.14  0.0  0.0  60.0\n",
      "8   27.0  0.14  0.0  0.0  60.0\n",
      "9   27.0  0.14  0.0  0.0  60.0\n",
      "10  27.0  0.14  0.0  0.0  60.0\n",
      "11  35.0  0.14  0.0  0.0  60.0\n",
      "12  35.0  0.14  0.0  0.0  60.0\n",
      "13  35.0  0.14  0.0  0.0  60.0\n",
      "14  39.0  0.14  0.0  0.0  60.0\n",
      "15  39.0  0.14  0.0  0.0  60.0\n",
      "16  39.0  0.14  0.0  0.0  60.0\n",
      "17  38.0  0.14  0.0  0.0  60.0\n",
      "18  38.0  0.14  0.0  0.0  60.0\n",
      "19  38.0  0.14  0.0  0.0  60.0\n",
      "20  33.0  0.13  0.0  0.0  60.0\n",
      "21  33.0  0.13  0.0  0.0  60.0\n",
      "22  33.0  0.13  0.0  0.0  60.0\n",
      "23  29.0  0.13  0.0  0.0  60.0\n"
     ]
    }
   ],
   "source": [
    "import pandas as pd\n",
    "new1 = pd.DataFrame.from_dict(dici)\n",
    "new1 = new1.transpose()\n",
    "print(new1)"
   ]
  },
  {
   "cell_type": "code",
   "execution_count": 9,
   "id": "bf5c676a",
   "metadata": {},
   "outputs": [
    {
     "name": "stdout",
     "output_type": "stream",
     "text": [
      "      0     1    2    3     4\n",
      "0  30.0  0.14  0.0  0.0  60.0\n",
      "1  30.0  0.14  0.0  0.0  60.0\n",
      "2  27.0  0.14  0.0  0.0  60.0\n",
      "3  27.0  0.14  0.0  0.0  60.0\n",
      "4  27.0  0.14  0.0  0.0  60.0\n"
     ]
    }
   ],
   "source": [
    "print(new1.head())\n",
    "new1.columns =[\"soil_temp\" , \"soil_moisture\" , \"prec_mm\" , \"prec_prob\" , \"prec_period\"]\n",
    "  \n",
    "# Change the row indexes\n",
    "#df.index = ['Row_1', 'Row_2', 'Row_3', 'Row_4']"
   ]
  },
  {
   "cell_type": "code",
   "execution_count": 10,
   "id": "8ea0824a",
   "metadata": {},
   "outputs": [
    {
     "data": {
      "text/html": [
       "<div>\n",
       "<style scoped>\n",
       "    .dataframe tbody tr th:only-of-type {\n",
       "        vertical-align: middle;\n",
       "    }\n",
       "\n",
       "    .dataframe tbody tr th {\n",
       "        vertical-align: top;\n",
       "    }\n",
       "\n",
       "    .dataframe thead th {\n",
       "        text-align: right;\n",
       "    }\n",
       "</style>\n",
       "<table border=\"1\" class=\"dataframe\">\n",
       "  <thead>\n",
       "    <tr style=\"text-align: right;\">\n",
       "      <th></th>\n",
       "      <th>soil_temp</th>\n",
       "      <th>soil_moisture</th>\n",
       "      <th>prec_mm</th>\n",
       "      <th>prec_prob</th>\n",
       "      <th>prec_period</th>\n",
       "    </tr>\n",
       "  </thead>\n",
       "  <tbody>\n",
       "    <tr>\n",
       "      <th>0</th>\n",
       "      <td>30.0</td>\n",
       "      <td>0.14</td>\n",
       "      <td>0.0</td>\n",
       "      <td>0.0</td>\n",
       "      <td>60.0</td>\n",
       "    </tr>\n",
       "    <tr>\n",
       "      <th>1</th>\n",
       "      <td>30.0</td>\n",
       "      <td>0.14</td>\n",
       "      <td>0.0</td>\n",
       "      <td>0.0</td>\n",
       "      <td>60.0</td>\n",
       "    </tr>\n",
       "    <tr>\n",
       "      <th>2</th>\n",
       "      <td>27.0</td>\n",
       "      <td>0.14</td>\n",
       "      <td>0.0</td>\n",
       "      <td>0.0</td>\n",
       "      <td>60.0</td>\n",
       "    </tr>\n",
       "    <tr>\n",
       "      <th>3</th>\n",
       "      <td>27.0</td>\n",
       "      <td>0.14</td>\n",
       "      <td>0.0</td>\n",
       "      <td>0.0</td>\n",
       "      <td>60.0</td>\n",
       "    </tr>\n",
       "    <tr>\n",
       "      <th>4</th>\n",
       "      <td>27.0</td>\n",
       "      <td>0.14</td>\n",
       "      <td>0.0</td>\n",
       "      <td>0.0</td>\n",
       "      <td>60.0</td>\n",
       "    </tr>\n",
       "    <tr>\n",
       "      <th>5</th>\n",
       "      <td>25.0</td>\n",
       "      <td>0.14</td>\n",
       "      <td>0.0</td>\n",
       "      <td>0.0</td>\n",
       "      <td>60.0</td>\n",
       "    </tr>\n",
       "    <tr>\n",
       "      <th>6</th>\n",
       "      <td>25.0</td>\n",
       "      <td>0.14</td>\n",
       "      <td>0.0</td>\n",
       "      <td>0.0</td>\n",
       "      <td>60.0</td>\n",
       "    </tr>\n",
       "    <tr>\n",
       "      <th>7</th>\n",
       "      <td>25.0</td>\n",
       "      <td>0.14</td>\n",
       "      <td>0.0</td>\n",
       "      <td>0.0</td>\n",
       "      <td>60.0</td>\n",
       "    </tr>\n",
       "    <tr>\n",
       "      <th>8</th>\n",
       "      <td>27.0</td>\n",
       "      <td>0.14</td>\n",
       "      <td>0.0</td>\n",
       "      <td>0.0</td>\n",
       "      <td>60.0</td>\n",
       "    </tr>\n",
       "    <tr>\n",
       "      <th>9</th>\n",
       "      <td>27.0</td>\n",
       "      <td>0.14</td>\n",
       "      <td>0.0</td>\n",
       "      <td>0.0</td>\n",
       "      <td>60.0</td>\n",
       "    </tr>\n",
       "    <tr>\n",
       "      <th>10</th>\n",
       "      <td>27.0</td>\n",
       "      <td>0.14</td>\n",
       "      <td>0.0</td>\n",
       "      <td>0.0</td>\n",
       "      <td>60.0</td>\n",
       "    </tr>\n",
       "    <tr>\n",
       "      <th>11</th>\n",
       "      <td>35.0</td>\n",
       "      <td>0.14</td>\n",
       "      <td>0.0</td>\n",
       "      <td>0.0</td>\n",
       "      <td>60.0</td>\n",
       "    </tr>\n",
       "    <tr>\n",
       "      <th>12</th>\n",
       "      <td>35.0</td>\n",
       "      <td>0.14</td>\n",
       "      <td>0.0</td>\n",
       "      <td>0.0</td>\n",
       "      <td>60.0</td>\n",
       "    </tr>\n",
       "    <tr>\n",
       "      <th>13</th>\n",
       "      <td>35.0</td>\n",
       "      <td>0.14</td>\n",
       "      <td>0.0</td>\n",
       "      <td>0.0</td>\n",
       "      <td>60.0</td>\n",
       "    </tr>\n",
       "    <tr>\n",
       "      <th>14</th>\n",
       "      <td>39.0</td>\n",
       "      <td>0.14</td>\n",
       "      <td>0.0</td>\n",
       "      <td>0.0</td>\n",
       "      <td>60.0</td>\n",
       "    </tr>\n",
       "    <tr>\n",
       "      <th>15</th>\n",
       "      <td>39.0</td>\n",
       "      <td>0.14</td>\n",
       "      <td>0.0</td>\n",
       "      <td>0.0</td>\n",
       "      <td>60.0</td>\n",
       "    </tr>\n",
       "    <tr>\n",
       "      <th>16</th>\n",
       "      <td>39.0</td>\n",
       "      <td>0.14</td>\n",
       "      <td>0.0</td>\n",
       "      <td>0.0</td>\n",
       "      <td>60.0</td>\n",
       "    </tr>\n",
       "    <tr>\n",
       "      <th>17</th>\n",
       "      <td>38.0</td>\n",
       "      <td>0.14</td>\n",
       "      <td>0.0</td>\n",
       "      <td>0.0</td>\n",
       "      <td>60.0</td>\n",
       "    </tr>\n",
       "    <tr>\n",
       "      <th>18</th>\n",
       "      <td>38.0</td>\n",
       "      <td>0.14</td>\n",
       "      <td>0.0</td>\n",
       "      <td>0.0</td>\n",
       "      <td>60.0</td>\n",
       "    </tr>\n",
       "    <tr>\n",
       "      <th>19</th>\n",
       "      <td>38.0</td>\n",
       "      <td>0.14</td>\n",
       "      <td>0.0</td>\n",
       "      <td>0.0</td>\n",
       "      <td>60.0</td>\n",
       "    </tr>\n",
       "    <tr>\n",
       "      <th>20</th>\n",
       "      <td>33.0</td>\n",
       "      <td>0.13</td>\n",
       "      <td>0.0</td>\n",
       "      <td>0.0</td>\n",
       "      <td>60.0</td>\n",
       "    </tr>\n",
       "    <tr>\n",
       "      <th>21</th>\n",
       "      <td>33.0</td>\n",
       "      <td>0.13</td>\n",
       "      <td>0.0</td>\n",
       "      <td>0.0</td>\n",
       "      <td>60.0</td>\n",
       "    </tr>\n",
       "    <tr>\n",
       "      <th>22</th>\n",
       "      <td>33.0</td>\n",
       "      <td>0.13</td>\n",
       "      <td>0.0</td>\n",
       "      <td>0.0</td>\n",
       "      <td>60.0</td>\n",
       "    </tr>\n",
       "    <tr>\n",
       "      <th>23</th>\n",
       "      <td>29.0</td>\n",
       "      <td>0.13</td>\n",
       "      <td>0.0</td>\n",
       "      <td>0.0</td>\n",
       "      <td>60.0</td>\n",
       "    </tr>\n",
       "  </tbody>\n",
       "</table>\n",
       "</div>"
      ],
      "text/plain": [
       "    soil_temp  soil_moisture  prec_mm  prec_prob  prec_period\n",
       "0        30.0           0.14      0.0        0.0         60.0\n",
       "1        30.0           0.14      0.0        0.0         60.0\n",
       "2        27.0           0.14      0.0        0.0         60.0\n",
       "3        27.0           0.14      0.0        0.0         60.0\n",
       "4        27.0           0.14      0.0        0.0         60.0\n",
       "5        25.0           0.14      0.0        0.0         60.0\n",
       "6        25.0           0.14      0.0        0.0         60.0\n",
       "7        25.0           0.14      0.0        0.0         60.0\n",
       "8        27.0           0.14      0.0        0.0         60.0\n",
       "9        27.0           0.14      0.0        0.0         60.0\n",
       "10       27.0           0.14      0.0        0.0         60.0\n",
       "11       35.0           0.14      0.0        0.0         60.0\n",
       "12       35.0           0.14      0.0        0.0         60.0\n",
       "13       35.0           0.14      0.0        0.0         60.0\n",
       "14       39.0           0.14      0.0        0.0         60.0\n",
       "15       39.0           0.14      0.0        0.0         60.0\n",
       "16       39.0           0.14      0.0        0.0         60.0\n",
       "17       38.0           0.14      0.0        0.0         60.0\n",
       "18       38.0           0.14      0.0        0.0         60.0\n",
       "19       38.0           0.14      0.0        0.0         60.0\n",
       "20       33.0           0.13      0.0        0.0         60.0\n",
       "21       33.0           0.13      0.0        0.0         60.0\n",
       "22       33.0           0.13      0.0        0.0         60.0\n",
       "23       29.0           0.13      0.0        0.0         60.0"
      ]
     },
     "execution_count": 10,
     "metadata": {},
     "output_type": "execute_result"
    }
   ],
   "source": [
    "new1\n"
   ]
  },
  {
   "cell_type": "code",
   "execution_count": 11,
   "id": "b759a8ed",
   "metadata": {},
   "outputs": [
    {
     "data": {
      "text/plain": [
       "0.0"
      ]
     },
     "execution_count": 11,
     "metadata": {},
     "output_type": "execute_result"
    }
   ],
   "source": [
    "a = sum(new1[\"prec_mm\"]/10)\n",
    "a"
   ]
  },
  {
   "cell_type": "code",
   "execution_count": 12,
   "id": "8501268c",
   "metadata": {},
   "outputs": [
    {
     "name": "stdout",
     "output_type": "stream",
     "text": [
      "{'Total_Water': 8750000, 'Stage': [0.05, 0.2, 0.4, 0.3, 0.05], 'Days': [30, 30, 30, 30, 30]}\n"
     ]
    }
   ],
   "source": [
    "import json\n",
    "  \n",
    "# Opening JSON file\n",
    "f = open(\"E:\\TARP\\crop_data.json\")\n",
    "  \n",
    "data = json.load(f)\n",
    "  \n",
    "for i in data['Rice']:\n",
    "    print(i)\n",
    "  \n",
    "# Closing file\n",
    "f.close()"
   ]
  },
  {
   "cell_type": "code",
   "execution_count": 13,
   "id": "b1554186",
   "metadata": {},
   "outputs": [],
   "source": [
    "f = open(\"E:\\TARP\\crop_data.json\")\n",
    "data = json.load(f)\n",
    "threshold = 35 \n",
    "import pandas as pd"
   ]
  },
  {
   "cell_type": "code",
   "execution_count": 14,
   "id": "74ddc851",
   "metadata": {},
   "outputs": [
    {
     "data": {
      "text/html": [
       "<div>\n",
       "<style scoped>\n",
       "    .dataframe tbody tr th:only-of-type {\n",
       "        vertical-align: middle;\n",
       "    }\n",
       "\n",
       "    .dataframe tbody tr th {\n",
       "        vertical-align: top;\n",
       "    }\n",
       "\n",
       "    .dataframe thead th {\n",
       "        text-align: right;\n",
       "    }\n",
       "</style>\n",
       "<table border=\"1\" class=\"dataframe\">\n",
       "  <thead>\n",
       "    <tr style=\"text-align: right;\">\n",
       "      <th></th>\n",
       "      <th>Crop_Period</th>\n",
       "      <th>Water_Percentage</th>\n",
       "      <th>Total_Days</th>\n",
       "      <th>Total_Water/M^2</th>\n",
       "      <th>Daily_Water/M^2</th>\n",
       "      <th>Soil_Moisture</th>\n",
       "    </tr>\n",
       "  </thead>\n",
       "  <tbody>\n",
       "    <tr>\n",
       "      <th>0</th>\n",
       "      <td>1</td>\n",
       "      <td>0.05</td>\n",
       "      <td>30.0</td>\n",
       "      <td>108.108509</td>\n",
       "      <td>3.603617</td>\n",
       "      <td>0.102960</td>\n",
       "    </tr>\n",
       "    <tr>\n",
       "      <th>1</th>\n",
       "      <td>2</td>\n",
       "      <td>0.20</td>\n",
       "      <td>30.0</td>\n",
       "      <td>432.434035</td>\n",
       "      <td>14.414468</td>\n",
       "      <td>0.411842</td>\n",
       "    </tr>\n",
       "    <tr>\n",
       "      <th>2</th>\n",
       "      <td>3</td>\n",
       "      <td>0.40</td>\n",
       "      <td>30.0</td>\n",
       "      <td>864.868071</td>\n",
       "      <td>28.828936</td>\n",
       "      <td>0.823684</td>\n",
       "    </tr>\n",
       "    <tr>\n",
       "      <th>3</th>\n",
       "      <td>4</td>\n",
       "      <td>0.30</td>\n",
       "      <td>30.0</td>\n",
       "      <td>648.651053</td>\n",
       "      <td>21.621702</td>\n",
       "      <td>0.617763</td>\n",
       "    </tr>\n",
       "    <tr>\n",
       "      <th>4</th>\n",
       "      <td>5</td>\n",
       "      <td>0.05</td>\n",
       "      <td>30.0</td>\n",
       "      <td>108.108509</td>\n",
       "      <td>3.603617</td>\n",
       "      <td>0.102960</td>\n",
       "    </tr>\n",
       "  </tbody>\n",
       "</table>\n",
       "</div>"
      ],
      "text/plain": [
       "   Crop_Period  Water_Percentage  Total_Days  Total_Water/M^2  \\\n",
       "0            1              0.05        30.0       108.108509   \n",
       "1            2              0.20        30.0       432.434035   \n",
       "2            3              0.40        30.0       864.868071   \n",
       "3            4              0.30        30.0       648.651053   \n",
       "4            5              0.05        30.0       108.108509   \n",
       "\n",
       "   Daily_Water/M^2  Soil_Moisture  \n",
       "0         3.603617       0.102960  \n",
       "1        14.414468       0.411842  \n",
       "2        28.828936       0.823684  \n",
       "3        21.621702       0.617763  \n",
       "4         3.603617       0.102960  "
      ]
     },
     "execution_count": 14,
     "metadata": {},
     "output_type": "execute_result"
    }
   ],
   "source": [
    "crop = \"Rice\"\n",
    "my_lis = [data[crop][0]['Stage'] , data[crop][0]['Days']]   \n",
    "new = pd.DataFrame(my_lis)\n",
    "new  = new.transpose()\n",
    "new.columns = ['Water_Percentage', 'Total_Days']\n",
    "new['Crop_Period'] = new.index + 1\n",
    "new[\"Total_Water/M^2\"] = (data[crop][0]['Total_Water'] * new[\"Water_Percentage\"])/4046.86\n",
    "new[\"Daily_Water/M^2\"] = (new[\"Total_Water/M^2\"])/30\n",
    "new[\"Soil_Moisture\"] = (new[\"Daily_Water/M^2\"])/threshold\n",
    "first_column = new.pop('Crop_Period')\n",
    "new.insert(0, 'Crop_Period', first_column)\n",
    "new.head()\n"
   ]
  },
  {
   "cell_type": "code",
   "execution_count": 15,
   "id": "9ec3df4d",
   "metadata": {},
   "outputs": [
    {
     "data": {
      "text/html": [
       "<div>\n",
       "<style scoped>\n",
       "    .dataframe tbody tr th:only-of-type {\n",
       "        vertical-align: middle;\n",
       "    }\n",
       "\n",
       "    .dataframe tbody tr th {\n",
       "        vertical-align: top;\n",
       "    }\n",
       "\n",
       "    .dataframe thead th {\n",
       "        text-align: right;\n",
       "    }\n",
       "</style>\n",
       "<table border=\"1\" class=\"dataframe\">\n",
       "  <thead>\n",
       "    <tr style=\"text-align: right;\">\n",
       "      <th></th>\n",
       "      <th>Crop_Period</th>\n",
       "      <th>Water_Percentage</th>\n",
       "      <th>Total_Days</th>\n",
       "      <th>Total_Water/M^2</th>\n",
       "      <th>Daily_Water/M^2</th>\n",
       "      <th>Soil_Moisture</th>\n",
       "    </tr>\n",
       "  </thead>\n",
       "  <tbody>\n",
       "    <tr>\n",
       "      <th>0</th>\n",
       "      <td>1</td>\n",
       "      <td>0.20</td>\n",
       "      <td>30.0</td>\n",
       "      <td>296.526196</td>\n",
       "      <td>9.884207</td>\n",
       "      <td>0.282406</td>\n",
       "    </tr>\n",
       "    <tr>\n",
       "      <th>1</th>\n",
       "      <td>2</td>\n",
       "      <td>0.25</td>\n",
       "      <td>30.0</td>\n",
       "      <td>370.657745</td>\n",
       "      <td>12.355258</td>\n",
       "      <td>0.353007</td>\n",
       "    </tr>\n",
       "    <tr>\n",
       "      <th>2</th>\n",
       "      <td>3</td>\n",
       "      <td>0.40</td>\n",
       "      <td>30.0</td>\n",
       "      <td>593.052391</td>\n",
       "      <td>19.768413</td>\n",
       "      <td>0.564812</td>\n",
       "    </tr>\n",
       "    <tr>\n",
       "      <th>3</th>\n",
       "      <td>4</td>\n",
       "      <td>0.10</td>\n",
       "      <td>30.0</td>\n",
       "      <td>148.263098</td>\n",
       "      <td>4.942103</td>\n",
       "      <td>0.141203</td>\n",
       "    </tr>\n",
       "    <tr>\n",
       "      <th>4</th>\n",
       "      <td>5</td>\n",
       "      <td>0.05</td>\n",
       "      <td>30.0</td>\n",
       "      <td>74.131549</td>\n",
       "      <td>2.471052</td>\n",
       "      <td>0.070601</td>\n",
       "    </tr>\n",
       "  </tbody>\n",
       "</table>\n",
       "</div>"
      ],
      "text/plain": [
       "   Crop_Period  Water_Percentage  Total_Days  Total_Water/M^2  \\\n",
       "0            1              0.20        30.0       296.526196   \n",
       "1            2              0.25        30.0       370.657745   \n",
       "2            3              0.40        30.0       593.052391   \n",
       "3            4              0.10        30.0       148.263098   \n",
       "4            5              0.05        30.0        74.131549   \n",
       "\n",
       "   Daily_Water/M^2  Soil_Moisture  \n",
       "0         9.884207       0.282406  \n",
       "1        12.355258       0.353007  \n",
       "2        19.768413       0.564812  \n",
       "3         4.942103       0.141203  \n",
       "4         2.471052       0.070601  "
      ]
     },
     "execution_count": 15,
     "metadata": {},
     "output_type": "execute_result"
    }
   ],
   "source": [
    "crop = \"Sugar Cane\"\n",
    "my_lis = [data[crop][0]['Stage'] , data[crop][0]['Days']]   \n",
    "new = pd.DataFrame(my_lis)\n",
    "new  = new.transpose()\n",
    "new.columns = ['Water_Percentage', 'Total_Days']\n",
    "new['Crop_Period'] = new.index + 1\n",
    "new[\"Total_Water/M^2\"] = (data[crop][0]['Total_Water'] * new[\"Water_Percentage\"])/4046.86\n",
    "new[\"Daily_Water/M^2\"] = (new[\"Total_Water/M^2\"])/30\n",
    "new[\"Soil_Moisture\"] = (new[\"Daily_Water/M^2\"])/threshold\n",
    "first_column = new.pop('Crop_Period')\n",
    "new.insert(0, 'Crop_Period', first_column)\n",
    "new.head()"
   ]
  },
  {
   "cell_type": "code",
   "execution_count": 16,
   "id": "9783fcf8",
   "metadata": {},
   "outputs": [
    {
     "data": {
      "text/html": [
       "<div>\n",
       "<style scoped>\n",
       "    .dataframe tbody tr th:only-of-type {\n",
       "        vertical-align: middle;\n",
       "    }\n",
       "\n",
       "    .dataframe tbody tr th {\n",
       "        vertical-align: top;\n",
       "    }\n",
       "\n",
       "    .dataframe thead th {\n",
       "        text-align: right;\n",
       "    }\n",
       "</style>\n",
       "<table border=\"1\" class=\"dataframe\">\n",
       "  <thead>\n",
       "    <tr style=\"text-align: right;\">\n",
       "      <th></th>\n",
       "      <th>Crop_Period</th>\n",
       "      <th>Water_Percentage</th>\n",
       "      <th>Total_Days</th>\n",
       "      <th>Total_Water/M^2</th>\n",
       "      <th>Daily_Water/M^2</th>\n",
       "      <th>Soil_Moisture</th>\n",
       "    </tr>\n",
       "  </thead>\n",
       "  <tbody>\n",
       "    <tr>\n",
       "      <th>0</th>\n",
       "      <td>1</td>\n",
       "      <td>0.05</td>\n",
       "      <td>30.0</td>\n",
       "      <td>32.580816</td>\n",
       "      <td>1.086027</td>\n",
       "      <td>0.031029</td>\n",
       "    </tr>\n",
       "    <tr>\n",
       "      <th>1</th>\n",
       "      <td>2</td>\n",
       "      <td>0.20</td>\n",
       "      <td>30.0</td>\n",
       "      <td>130.323263</td>\n",
       "      <td>4.344109</td>\n",
       "      <td>0.124117</td>\n",
       "    </tr>\n",
       "    <tr>\n",
       "      <th>2</th>\n",
       "      <td>3</td>\n",
       "      <td>0.40</td>\n",
       "      <td>30.0</td>\n",
       "      <td>260.646526</td>\n",
       "      <td>8.688218</td>\n",
       "      <td>0.248235</td>\n",
       "    </tr>\n",
       "    <tr>\n",
       "      <th>3</th>\n",
       "      <td>4</td>\n",
       "      <td>0.30</td>\n",
       "      <td>30.0</td>\n",
       "      <td>195.484894</td>\n",
       "      <td>6.516163</td>\n",
       "      <td>0.186176</td>\n",
       "    </tr>\n",
       "    <tr>\n",
       "      <th>4</th>\n",
       "      <td>5</td>\n",
       "      <td>0.05</td>\n",
       "      <td>30.0</td>\n",
       "      <td>32.580816</td>\n",
       "      <td>1.086027</td>\n",
       "      <td>0.031029</td>\n",
       "    </tr>\n",
       "  </tbody>\n",
       "</table>\n",
       "</div>"
      ],
      "text/plain": [
       "   Crop_Period  Water_Percentage  Total_Days  Total_Water/M^2  \\\n",
       "0            1              0.05        30.0        32.580816   \n",
       "1            2              0.20        30.0       130.323263   \n",
       "2            3              0.40        30.0       260.646526   \n",
       "3            4              0.30        30.0       195.484894   \n",
       "4            5              0.05        30.0        32.580816   \n",
       "\n",
       "   Daily_Water/M^2  Soil_Moisture  \n",
       "0         1.086027       0.031029  \n",
       "1         4.344109       0.124117  \n",
       "2         8.688218       0.248235  \n",
       "3         6.516163       0.186176  \n",
       "4         1.086027       0.031029  "
      ]
     },
     "execution_count": 16,
     "metadata": {},
     "output_type": "execute_result"
    }
   ],
   "source": [
    "crop = \"Wheat\"\n",
    "my_lis = [data[crop][0]['Stage'] , data[crop][0]['Days']]   \n",
    "new = pd.DataFrame(my_lis)\n",
    "new  = new.transpose()\n",
    "new.columns = ['Water_Percentage', 'Total_Days']\n",
    "new['Crop_Period'] = new.index + 1\n",
    "new[\"Total_Water/M^2\"] = (data[crop][0]['Total_Water'] * new[\"Water_Percentage\"])/4046.86\n",
    "new[\"Daily_Water/M^2\"] = (new[\"Total_Water/M^2\"])/30\n",
    "new[\"Soil_Moisture\"] = (new[\"Daily_Water/M^2\"])/threshold\n",
    "first_column = new.pop('Crop_Period')\n",
    "new.insert(0, 'Crop_Period', first_column)\n",
    "new.head()"
   ]
  },
  {
   "cell_type": "code",
   "execution_count": 17,
   "id": "58c61777",
   "metadata": {},
   "outputs": [
    {
     "data": {
      "text/html": [
       "<div>\n",
       "<style scoped>\n",
       "    .dataframe tbody tr th:only-of-type {\n",
       "        vertical-align: middle;\n",
       "    }\n",
       "\n",
       "    .dataframe tbody tr th {\n",
       "        vertical-align: top;\n",
       "    }\n",
       "\n",
       "    .dataframe thead th {\n",
       "        text-align: right;\n",
       "    }\n",
       "</style>\n",
       "<table border=\"1\" class=\"dataframe\">\n",
       "  <thead>\n",
       "    <tr style=\"text-align: right;\">\n",
       "      <th></th>\n",
       "      <th>Crop_Period</th>\n",
       "      <th>Water_Percentage</th>\n",
       "      <th>Total_Days</th>\n",
       "      <th>Total_Water/M^2</th>\n",
       "      <th>Daily_Water/M^2</th>\n",
       "      <th>Soil_Moisture</th>\n",
       "    </tr>\n",
       "  </thead>\n",
       "  <tbody>\n",
       "    <tr>\n",
       "      <th>0</th>\n",
       "      <td>1</td>\n",
       "      <td>0.05</td>\n",
       "      <td>30.0</td>\n",
       "      <td>55.598662</td>\n",
       "      <td>1.853289</td>\n",
       "      <td>0.052951</td>\n",
       "    </tr>\n",
       "    <tr>\n",
       "      <th>1</th>\n",
       "      <td>2</td>\n",
       "      <td>0.20</td>\n",
       "      <td>30.0</td>\n",
       "      <td>222.394647</td>\n",
       "      <td>7.413155</td>\n",
       "      <td>0.211804</td>\n",
       "    </tr>\n",
       "    <tr>\n",
       "      <th>2</th>\n",
       "      <td>3</td>\n",
       "      <td>0.40</td>\n",
       "      <td>30.0</td>\n",
       "      <td>444.789293</td>\n",
       "      <td>14.826310</td>\n",
       "      <td>0.423609</td>\n",
       "    </tr>\n",
       "    <tr>\n",
       "      <th>3</th>\n",
       "      <td>4</td>\n",
       "      <td>0.20</td>\n",
       "      <td>30.0</td>\n",
       "      <td>222.394647</td>\n",
       "      <td>7.413155</td>\n",
       "      <td>0.211804</td>\n",
       "    </tr>\n",
       "    <tr>\n",
       "      <th>4</th>\n",
       "      <td>5</td>\n",
       "      <td>0.15</td>\n",
       "      <td>30.0</td>\n",
       "      <td>166.795985</td>\n",
       "      <td>5.559866</td>\n",
       "      <td>0.158853</td>\n",
       "    </tr>\n",
       "  </tbody>\n",
       "</table>\n",
       "</div>"
      ],
      "text/plain": [
       "   Crop_Period  Water_Percentage  Total_Days  Total_Water/M^2  \\\n",
       "0            1              0.05        30.0        55.598662   \n",
       "1            2              0.20        30.0       222.394647   \n",
       "2            3              0.40        30.0       444.789293   \n",
       "3            4              0.20        30.0       222.394647   \n",
       "4            5              0.15        30.0       166.795985   \n",
       "\n",
       "   Daily_Water/M^2  Soil_Moisture  \n",
       "0         1.853289       0.052951  \n",
       "1         7.413155       0.211804  \n",
       "2        14.826310       0.423609  \n",
       "3         7.413155       0.211804  \n",
       "4         5.559866       0.158853  "
      ]
     },
     "execution_count": 17,
     "metadata": {},
     "output_type": "execute_result"
    }
   ],
   "source": [
    "crop = \"Potato\"\n",
    "my_lis = [data[crop][0]['Stage'] , data[crop][0]['Days']]   \n",
    "new = pd.DataFrame(my_lis)\n",
    "new  = new.transpose()\n",
    "new.columns = ['Water_Percentage', 'Total_Days']\n",
    "new['Crop_Period'] = new.index + 1\n",
    "new[\"Total_Water/M^2\"] = (data[crop][0]['Total_Water'] * new[\"Water_Percentage\"])/4046.86\n",
    "new[\"Daily_Water/M^2\"] = (new[\"Total_Water/M^2\"])/30\n",
    "new[\"Soil_Moisture\"] = (new[\"Daily_Water/M^2\"])/threshold\n",
    "first_column = new.pop('Crop_Period')\n",
    "new.insert(0, 'Crop_Period', first_column)\n",
    "new.head()"
   ]
  },
  {
   "cell_type": "code",
   "execution_count": 18,
   "id": "2c51dd8a",
   "metadata": {},
   "outputs": [
    {
     "data": {
      "text/html": [
       "<div>\n",
       "<style scoped>\n",
       "    .dataframe tbody tr th:only-of-type {\n",
       "        vertical-align: middle;\n",
       "    }\n",
       "\n",
       "    .dataframe tbody tr th {\n",
       "        vertical-align: top;\n",
       "    }\n",
       "\n",
       "    .dataframe thead th {\n",
       "        text-align: right;\n",
       "    }\n",
       "</style>\n",
       "<table border=\"1\" class=\"dataframe\">\n",
       "  <thead>\n",
       "    <tr style=\"text-align: right;\">\n",
       "      <th></th>\n",
       "      <th>Crop_Period</th>\n",
       "      <th>Water_Percentage</th>\n",
       "      <th>Total_Days</th>\n",
       "      <th>Total_Water/M^2</th>\n",
       "      <th>Daily_Water/M^2</th>\n",
       "      <th>Soil_Moisture</th>\n",
       "    </tr>\n",
       "  </thead>\n",
       "  <tbody>\n",
       "    <tr>\n",
       "      <th>0</th>\n",
       "      <td>1</td>\n",
       "      <td>0.05</td>\n",
       "      <td>30.0</td>\n",
       "      <td>33.729855</td>\n",
       "      <td>1.124328</td>\n",
       "      <td>0.032124</td>\n",
       "    </tr>\n",
       "    <tr>\n",
       "      <th>1</th>\n",
       "      <td>2</td>\n",
       "      <td>0.20</td>\n",
       "      <td>30.0</td>\n",
       "      <td>134.919419</td>\n",
       "      <td>4.497314</td>\n",
       "      <td>0.128495</td>\n",
       "    </tr>\n",
       "    <tr>\n",
       "      <th>2</th>\n",
       "      <td>3</td>\n",
       "      <td>0.40</td>\n",
       "      <td>30.0</td>\n",
       "      <td>269.838838</td>\n",
       "      <td>8.994628</td>\n",
       "      <td>0.256989</td>\n",
       "    </tr>\n",
       "    <tr>\n",
       "      <th>3</th>\n",
       "      <td>4</td>\n",
       "      <td>0.20</td>\n",
       "      <td>30.0</td>\n",
       "      <td>134.919419</td>\n",
       "      <td>4.497314</td>\n",
       "      <td>0.128495</td>\n",
       "    </tr>\n",
       "    <tr>\n",
       "      <th>4</th>\n",
       "      <td>5</td>\n",
       "      <td>0.15</td>\n",
       "      <td>30.0</td>\n",
       "      <td>101.189564</td>\n",
       "      <td>3.372985</td>\n",
       "      <td>0.096371</td>\n",
       "    </tr>\n",
       "  </tbody>\n",
       "</table>\n",
       "</div>"
      ],
      "text/plain": [
       "   Crop_Period  Water_Percentage  Total_Days  Total_Water/M^2  \\\n",
       "0            1              0.05        30.0        33.729855   \n",
       "1            2              0.20        30.0       134.919419   \n",
       "2            3              0.40        30.0       269.838838   \n",
       "3            4              0.20        30.0       134.919419   \n",
       "4            5              0.15        30.0       101.189564   \n",
       "\n",
       "   Daily_Water/M^2  Soil_Moisture  \n",
       "0         1.124328       0.032124  \n",
       "1         4.497314       0.128495  \n",
       "2         8.994628       0.256989  \n",
       "3         4.497314       0.128495  \n",
       "4         3.372985       0.096371  "
      ]
     },
     "execution_count": 18,
     "metadata": {},
     "output_type": "execute_result"
    }
   ],
   "source": [
    "crop = \"Corn\"\n",
    "my_lis = [data[crop][0]['Stage'] , data[crop][0]['Days']]   \n",
    "new = pd.DataFrame(my_lis)\n",
    "new  = new.transpose()\n",
    "new.columns = ['Water_Percentage', 'Total_Days']\n",
    "new['Crop_Period'] = new.index + 1\n",
    "new[\"Total_Water/M^2\"] = (data[crop][0]['Total_Water'] * new[\"Water_Percentage\"])/4046.86\n",
    "new[\"Daily_Water/M^2\"] = (new[\"Total_Water/M^2\"])/30\n",
    "new[\"Soil_Moisture\"] = (new[\"Daily_Water/M^2\"])/threshold\n",
    "first_column = new.pop('Crop_Period')\n",
    "new.insert(0, 'Crop_Period', first_column)\n",
    "new.head()"
   ]
  },
  {
   "cell_type": "code",
   "execution_count": 19,
   "id": "ba97ce7e",
   "metadata": {},
   "outputs": [],
   "source": [
    "new3 = pd.DataFrame(new[\"Soil_Moisture\"])"
   ]
  },
  {
   "cell_type": "code",
   "execution_count": 20,
   "id": "9960bb06",
   "metadata": {},
   "outputs": [],
   "source": [
    "new3[\"Prec_mm\"] = sum(new1[\"prec_mm\"]/10)\n"
   ]
  },
  {
   "cell_type": "code",
   "execution_count": 21,
   "id": "7f259165",
   "metadata": {},
   "outputs": [],
   "source": [
    "new3[\"Soil_Moisture_Tomorrow\"] = sum(new1[\"soil_moisture\"]/24)"
   ]
  },
  {
   "cell_type": "code",
   "execution_count": 22,
   "id": "180f4909",
   "metadata": {},
   "outputs": [],
   "source": [
    "new3[\"Soil_Moisture_Total\"] = new3[\"Soil_Moisture_Tomorrow\"] + new3[\"Prec_mm\"] "
   ]
  },
  {
   "cell_type": "code",
   "execution_count": 23,
   "id": "5a50080c",
   "metadata": {},
   "outputs": [
    {
     "data": {
      "text/html": [
       "<div>\n",
       "<style scoped>\n",
       "    .dataframe tbody tr th:only-of-type {\n",
       "        vertical-align: middle;\n",
       "    }\n",
       "\n",
       "    .dataframe tbody tr th {\n",
       "        vertical-align: top;\n",
       "    }\n",
       "\n",
       "    .dataframe thead th {\n",
       "        text-align: right;\n",
       "    }\n",
       "</style>\n",
       "<table border=\"1\" class=\"dataframe\">\n",
       "  <thead>\n",
       "    <tr style=\"text-align: right;\">\n",
       "      <th></th>\n",
       "      <th>Soil_Moisture</th>\n",
       "      <th>Prec_mm</th>\n",
       "      <th>Soil_Moisture_Tomorrow</th>\n",
       "      <th>Soil_Moisture_Total</th>\n",
       "    </tr>\n",
       "  </thead>\n",
       "  <tbody>\n",
       "    <tr>\n",
       "      <th>0</th>\n",
       "      <td>0.032124</td>\n",
       "      <td>0.0</td>\n",
       "      <td>0.138333</td>\n",
       "      <td>0.138333</td>\n",
       "    </tr>\n",
       "    <tr>\n",
       "      <th>1</th>\n",
       "      <td>0.128495</td>\n",
       "      <td>0.0</td>\n",
       "      <td>0.138333</td>\n",
       "      <td>0.138333</td>\n",
       "    </tr>\n",
       "    <tr>\n",
       "      <th>2</th>\n",
       "      <td>0.256989</td>\n",
       "      <td>0.0</td>\n",
       "      <td>0.138333</td>\n",
       "      <td>0.138333</td>\n",
       "    </tr>\n",
       "    <tr>\n",
       "      <th>3</th>\n",
       "      <td>0.128495</td>\n",
       "      <td>0.0</td>\n",
       "      <td>0.138333</td>\n",
       "      <td>0.138333</td>\n",
       "    </tr>\n",
       "    <tr>\n",
       "      <th>4</th>\n",
       "      <td>0.096371</td>\n",
       "      <td>0.0</td>\n",
       "      <td>0.138333</td>\n",
       "      <td>0.138333</td>\n",
       "    </tr>\n",
       "  </tbody>\n",
       "</table>\n",
       "</div>"
      ],
      "text/plain": [
       "   Soil_Moisture  Prec_mm  Soil_Moisture_Tomorrow  Soil_Moisture_Total\n",
       "0       0.032124      0.0                0.138333             0.138333\n",
       "1       0.128495      0.0                0.138333             0.138333\n",
       "2       0.256989      0.0                0.138333             0.138333\n",
       "3       0.128495      0.0                0.138333             0.138333\n",
       "4       0.096371      0.0                0.138333             0.138333"
      ]
     },
     "execution_count": 23,
     "metadata": {},
     "output_type": "execute_result"
    }
   ],
   "source": [
    "new3\n"
   ]
  },
  {
   "cell_type": "code",
   "execution_count": 24,
   "id": "a8cf654f",
   "metadata": {},
   "outputs": [
    {
     "name": "stdout",
     "output_type": "stream",
     "text": [
      "2023-04-02\n"
     ]
    }
   ],
   "source": [
    "import datetime\n",
    "\n",
    "x = datetime.date(2023, 4, 2)\n",
    "\n",
    "print(x)"
   ]
  },
  {
   "cell_type": "code",
   "execution_count": 25,
   "id": "6a87d10d",
   "metadata": {},
   "outputs": [],
   "source": [
    "a = today-x\n",
    "cal_day = a.days"
   ]
  },
  {
   "cell_type": "code",
   "execution_count": 26,
   "id": "a08eb8d0",
   "metadata": {},
   "outputs": [
    {
     "data": {
      "text/plain": [
       "8"
      ]
     },
     "execution_count": 26,
     "metadata": {},
     "output_type": "execute_result"
    }
   ],
   "source": [
    "cal_day"
   ]
  },
  {
   "cell_type": "code",
   "execution_count": 27,
   "id": "de9654d3",
   "metadata": {},
   "outputs": [
    {
     "name": "stdout",
     "output_type": "stream",
     "text": [
      "Soil_Moisture\n",
      "Prec_mm\n",
      "Soil_Moisture_Tomorrow\n",
      "Soil_Moisture_Total\n"
     ]
    }
   ],
   "source": [
    "for a in new3:\n",
    "    print(a)"
   ]
  },
  {
   "cell_type": "code",
   "execution_count": 28,
   "id": "1db296a2",
   "metadata": {},
   "outputs": [],
   "source": [
    "i = 1\n",
    "temp = 1\n",
    "for a in new[\"Crop_Period\"]:\n",
    "    temp += new[\"Total_Days\"][i] \n",
    "    if(temp>cal_day):\n",
    "        break ;\n",
    "    i+=1"
   ]
  },
  {
   "cell_type": "code",
   "execution_count": 29,
   "id": "75ed27b0",
   "metadata": {},
   "outputs": [
    {
     "name": "stdout",
     "output_type": "stream",
     "text": [
      "Crop Stage :  1\n",
      "Day :  8\n",
      "Soil Moisture Tomorrow :  0.1383333333333333\n",
      "Precipitaion Tomorrow :  0.0\n",
      "Total Soil Moisture :  0.1383333333333333\n",
      "Ideal Soil Moisture :  0.032123671191985885\n"
     ]
    }
   ],
   "source": [
    "print(\"Crop Stage : \" , i) \n",
    "print(\"Day : \" , cal_day)\n",
    "Prec_mm = sum(new1[\"prec_mm\"]/10)\n",
    "Soil_Moisture_Tomorrow = sum(new1[\"soil_moisture\"]/24)\n",
    "Soil_Moisture_Total = Soil_Moisture_Tomorrow + Prec_mm\n",
    "print(\"Soil Moisture Tomorrow : \" , Soil_Moisture_Tomorrow)\n",
    "print(\"Precipitaion Tomorrow : \" , Prec_mm)\n",
    "print(\"Total Soil Moisture : \" , Soil_Moisture_Total)\n",
    "print(\"Ideal Soil Moisture : \" , new[\"Soil_Moisture\"][i-1])"
   ]
  },
  {
   "cell_type": "code",
   "execution_count": 30,
   "id": "a051297c",
   "metadata": {},
   "outputs": [
    {
     "name": "stdout",
     "output_type": "stream",
     "text": [
      "1\n"
     ]
    }
   ],
   "source": [
    "if(new[\"Soil_Moisture\"][i-1]>Soil_Moisture_Total):\n",
    "    print(0)\n",
    "else :\n",
    "    print(1)"
   ]
  },
  {
   "cell_type": "code",
   "execution_count": null,
   "id": "183a7969",
   "metadata": {},
   "outputs": [],
   "source": []
  },
  {
   "cell_type": "code",
   "execution_count": null,
   "id": "fb2dcb4b",
   "metadata": {},
   "outputs": [],
   "source": []
  }
 ],
 "metadata": {
  "kernelspec": {
   "display_name": "Python 3 (ipykernel)",
   "language": "python",
   "name": "python3"
  },
  "language_info": {
   "codemirror_mode": {
    "name": "ipython",
    "version": 3
   },
   "file_extension": ".py",
   "mimetype": "text/x-python",
   "name": "python",
   "nbconvert_exporter": "python",
   "pygments_lexer": "ipython3",
   "version": "3.8.8"
  }
 },
 "nbformat": 4,
 "nbformat_minor": 5
}
